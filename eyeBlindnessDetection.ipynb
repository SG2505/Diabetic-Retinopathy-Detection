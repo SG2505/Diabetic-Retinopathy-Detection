{
 "cells": [
  {
   "cell_type": "markdown",
   "id": "7c414781",
   "metadata": {},
   "source": [
    "## Making Imports"
   ]
  },
  {
   "cell_type": "code",
   "execution_count": 3,
   "id": "6ddb5e44",
   "metadata": {},
   "outputs": [
    {
     "name": "stdout",
     "output_type": "stream",
     "text": [
      "CWD is  D:\\projects\\AI projects\n"
     ]
    }
   ],
   "source": [
    "import multiprocessing\n",
    "from multiprocessing.pool import ThreadPool\n",
    "import pandas as pd\n",
    "import numpy as np\n",
    "import os\n",
    "print('CWD is ',os.getcwd())\n",
    "\n",
    "# Vis Libs..\n",
    "import matplotlib.pyplot as plt\n",
    "%matplotlib inline\n",
    "plt.rcParams[\"axes.grid\"] = False\n",
    "\n",
    "# Image Libs.\n",
    "from PIL import Image\n",
    "import cv2\n",
    "\n",
    "# sklearn libs..\n",
    "from sklearn.model_selection import train_test_split\n",
    "\n",
    "# DL Libs..\n",
    "import tensorflow as tf\n",
    "from keras import applications\n",
    "from keras.preprocessing.image import ImageDataGenerator\n",
    "from tensorflow.keras.utils import img_to_array,array_to_img,load_img"
   ]
  },
  {
   "cell_type": "markdown",
   "id": "ca457dfe",
   "metadata": {},
   "source": [
    "## Setting Up Gpu"
   ]
  },
  {
   "cell_type": "code",
   "execution_count": null,
   "id": "ed1d991e",
   "metadata": {},
   "outputs": [],
   "source": [
    "gpus = tf.config.experimental.list_physical_devices('GPU')\n",
    "for gpu in gpus:\n",
    "    tf.config.experimental.set_memory_growth(gpu, True)\n",
    "tf.config.list_physical_devices('GPU')"
   ]
  },
  {
   "cell_type": "markdown",
   "id": "44e049e9",
   "metadata": {},
   "source": [
    "## Train Validation Split and Mapping the labels with images"
   ]
  },
  {
   "cell_type": "code",
   "execution_count": 5,
   "id": "7512efde",
   "metadata": {},
   "outputs": [],
   "source": [
    "def load_data():\n",
    "    train = pd.read_csv('train.csv')\n",
    "   \n",
    "    \n",
    "    train_dir = os.path.join('./','train/')\n",
    "    \n",
    "    \n",
    "    train['file_path'] = train['id_code'].map(lambda x: os.path.join(train_dir,'{}.png'.format(x)))\n",
    "    \n",
    "    \n",
    "    train['file_name'] = train[\"id_code\"].apply(lambda x: x + \".png\")\n",
    "\n",
    "    \n",
    "    train['diagnosis'] = train['diagnosis'].astype(str)\n",
    "    \n",
    "    return train"
   ]
  },
  {
   "cell_type": "code",
   "execution_count": 6,
   "id": "f7d2ce9f",
   "metadata": {},
   "outputs": [
    {
     "name": "stdout",
     "output_type": "stream",
     "text": [
      "(4184, 4) \n",
      "\n"
     ]
    },
    {
     "data": {
      "text/html": [
       "<div>\n",
       "<style scoped>\n",
       "    .dataframe tbody tr th:only-of-type {\n",
       "        vertical-align: middle;\n",
       "    }\n",
       "\n",
       "    .dataframe tbody tr th {\n",
       "        vertical-align: top;\n",
       "    }\n",
       "\n",
       "    .dataframe thead th {\n",
       "        text-align: right;\n",
       "    }\n",
       "</style>\n",
       "<table border=\"1\" class=\"dataframe\">\n",
       "  <thead>\n",
       "    <tr style=\"text-align: right;\">\n",
       "      <th></th>\n",
       "      <th>id_code</th>\n",
       "      <th>diagnosis</th>\n",
       "      <th>file_path</th>\n",
       "      <th>file_name</th>\n",
       "    </tr>\n",
       "  </thead>\n",
       "  <tbody>\n",
       "    <tr>\n",
       "      <th>0</th>\n",
       "      <td>000c1434d8d7</td>\n",
       "      <td>2</td>\n",
       "      <td>./train/000c1434d8d7.png</td>\n",
       "      <td>000c1434d8d7.png</td>\n",
       "    </tr>\n",
       "    <tr>\n",
       "      <th>1</th>\n",
       "      <td>001639a390f0</td>\n",
       "      <td>4</td>\n",
       "      <td>./train/001639a390f0.png</td>\n",
       "      <td>001639a390f0.png</td>\n",
       "    </tr>\n",
       "    <tr>\n",
       "      <th>2</th>\n",
       "      <td>0024cdab0c1e</td>\n",
       "      <td>1</td>\n",
       "      <td>./train/0024cdab0c1e.png</td>\n",
       "      <td>0024cdab0c1e.png</td>\n",
       "    </tr>\n",
       "    <tr>\n",
       "      <th>3</th>\n",
       "      <td>002c21358ce6</td>\n",
       "      <td>0</td>\n",
       "      <td>./train/002c21358ce6.png</td>\n",
       "      <td>002c21358ce6.png</td>\n",
       "    </tr>\n",
       "    <tr>\n",
       "      <th>4</th>\n",
       "      <td>005b95c28852</td>\n",
       "      <td>0</td>\n",
       "      <td>./train/005b95c28852.png</td>\n",
       "      <td>005b95c28852.png</td>\n",
       "    </tr>\n",
       "    <tr>\n",
       "      <th>5</th>\n",
       "      <td>0083ee8054ee</td>\n",
       "      <td>4</td>\n",
       "      <td>./train/0083ee8054ee.png</td>\n",
       "      <td>0083ee8054ee.png</td>\n",
       "    </tr>\n",
       "  </tbody>\n",
       "</table>\n",
       "</div>"
      ],
      "text/plain": [
       "        id_code diagnosis                 file_path         file_name\n",
       "0  000c1434d8d7         2  ./train/000c1434d8d7.png  000c1434d8d7.png\n",
       "1  001639a390f0         4  ./train/001639a390f0.png  001639a390f0.png\n",
       "2  0024cdab0c1e         1  ./train/0024cdab0c1e.png  0024cdab0c1e.png\n",
       "3  002c21358ce6         0  ./train/002c21358ce6.png  002c21358ce6.png\n",
       "4  005b95c28852         0  ./train/005b95c28852.png  005b95c28852.png\n",
       "5  0083ee8054ee         4  ./train/0083ee8054ee.png  0083ee8054ee.png"
      ]
     },
     "execution_count": 6,
     "metadata": {},
     "output_type": "execute_result"
    }
   ],
   "source": [
    "df_train = load_data()\n",
    "print(df_train.shape,'\\n')\n",
    "df_train.head(6)"
   ]
  },
  {
   "cell_type": "markdown",
   "id": "09739930",
   "metadata": {},
   "source": [
    "## Seeing classes distribution in train and validation data"
   ]
  },
  {
   "cell_type": "code",
   "execution_count": 5,
   "id": "f8d6d826",
   "metadata": {},
   "outputs": [],
   "source": [
    "'''This Function Plots a Bar plot of output Classes Distribution'''\n",
    "\n",
    "def plot_classes(df,title):\n",
    "    df_group = pd.DataFrame(df.groupby('diagnosis').agg('size').reset_index())\n",
    "    df_group.columns = ['diagnosis','count']\n",
    "\n",
    "    sns.set(rc={'figure.figsize':(10,5)}, style = 'whitegrid')\n",
    "    sns.barplot(x = 'diagnosis',y='count',data = df_group,palette = \"Blues_d\")\n",
    "    plt.title('Output Class Distribution ' + str(title))\n",
    "    plt.show() "
   ]
  },
  {
   "cell_type": "code",
   "execution_count": 7,
   "id": "7b2dbb34",
   "metadata": {},
   "outputs": [
    {
     "data": {
      "image/png": "[encoded data removed]",
      "text/plain": [
       "<Figure size 1000x500 with 1 Axes>"
      ]
     },
     "metadata": {},
     "output_type": "display_data"
    }
   ],
   "source": [
    "plot_classes(df_train,\"TRAIN DATA\")"
   ]
  },
  {
   "cell_type": "markdown",
   "id": "f5c84129",
   "metadata": {},
   "source": [
    "## Image processing"
   ]
  },
  {
   "cell_type": "code",
   "execution_count": 7,
   "id": "1bf21339",
   "metadata": {},
   "outputs": [],
   "source": [
    "IMG_SIZE = 512\n",
    "\n",
    "def crop_image_from_gray(img,tol=7):\n",
    "    if img.ndim ==2:\n",
    "        mask = img>tol\n",
    "        return img[np.ix_(mask.any(1),mask.any(0))]\n",
    "    elif img.ndim==3:\n",
    "        gray_img = cv2.cvtColor(img, cv2.COLOR_RGB2GRAY)\n",
    "        mask = gray_img>tol\n",
    "        \n",
    "        check_shape = img[:,:,0][np.ix_(mask.any(1),mask.any(0))].shape[0]\n",
    "        if (check_shape == 0): # image is too dark so that we crop out everything,\n",
    "            return img # return original image\n",
    "        else:\n",
    "            img1=img[:,:,0][np.ix_(mask.any(1),mask.any(0))]\n",
    "            img2=img[:,:,1][np.ix_(mask.any(1),mask.any(0))]\n",
    "            img3=img[:,:,2][np.ix_(mask.any(1),mask.any(0))]\n",
    "    #         print(img1.shape,img2.shape,img3.shape)\n",
    "            img = np.stack([img1,img2,img3],axis=-1)\n",
    "    #         print(img.shape)\n",
    "        return img\n",
    "    \n",
    "def circle_crop(img, sigmaX = 30):   \n",
    "    \"\"\"\n",
    "    Create circular crop around image centre    \n",
    "    \"\"\"    \n",
    "    img = crop_image_from_gray(img)    \n",
    "    img = cv2.cvtColor(img, cv2.COLOR_BGR2RGB)\n",
    "    \n",
    "    height, width, depth = img.shape    \n",
    "    \n",
    "    x = int(width/2)\n",
    "    y = int(height/2)\n",
    "    r = np.amin((x,y))\n",
    "    \n",
    "    circle_img = np.zeros((height, width), np.uint8)\n",
    "    cv2.circle(circle_img, (x,y), int(r), 1, thickness=-1)\n",
    "    img = cv2.bitwise_and(img, img, mask=circle_img)\n",
    "    img = crop_image_from_gray(img)\n",
    "    img=cv2.addWeighted(img,4, cv2.GaussianBlur( img , (0,0) , sigmaX) ,-4 ,128)\n",
    "    return img \n",
    "\n",
    "def preprocess_image(file):\n",
    "    input_filepath = os.path.join('./','train','{}.png'.format(file))\n",
    "    output_filepath = os.path.join('./','preprocessed images','{}.png'.format(file))\n",
    "    \n",
    "    img = cv2.imread(input_filepath)\n",
    "    img = circle_crop(img) \n",
    "    cv2.imwrite(output_filepath, cv2.resize(img, (IMG_SIZE,IMG_SIZE)))\n",
    "    \n",
    "def multiprocess_image_processor(process:int, imgs:list):\n",
    "    \"\"\"\n",
    "    Inputs:\n",
    "        process: (int) number of process to run\n",
    "        imgs:(list) list of images\n",
    "    \"\"\"\n",
    "    print(f'MESSAGE: Running {process} process')\n",
    "    results = ThreadPool(process).map(preprocess_image, imgs)\n",
    "    return results"
   ]
  },
  {
   "cell_type": "markdown",
   "id": "d2493550",
   "metadata": {},
   "source": [
    "## Creating the model"
   ]
  },
  {
   "cell_type": "code",
   "execution_count": 8,
   "id": "6a1b5736",
   "metadata": {},
   "outputs": [],
   "source": [
    "# Model parameters\n",
    "BATCH_SIZE = 8\n",
    "EPOCHS = 15\n",
    "WARMUP_EPOCHS = 2\n",
    "LEARNING_RATE = 1e-4\n",
    "WARMUP_LEARNING_RATE = 1e-3\n",
    "HEIGHT = 224\n",
    "WIDTH = 224\n",
    "CANAL = 3\n",
    "N_CLASSES = df_train['diagnosis'].nunique()\n",
    "ES_PATIENCE = 5\n",
    "RLROP_PATIENCE = 3\n",
    "DECAY_DROP = 0.5"
   ]
  },
  {
   "cell_type": "code",
   "execution_count": 9,
   "id": "27b6344e",
   "metadata": {},
   "outputs": [
    {
     "data": {
      "text/plain": [
       "(4184, 4)"
      ]
     },
     "execution_count": 9,
     "metadata": {},
     "output_type": "execute_result"
    }
   ],
   "source": [
    "df_train.shape\n"
   ]
  },
  {
   "cell_type": "code",
   "execution_count": 10,
   "id": "d254b53c",
   "metadata": {},
   "outputs": [],
   "source": [
    "def img_generator(df_train):\n",
    "    \n",
    "\n",
    "    \n",
    "    \n",
    "    train_datagen=ImageDataGenerator(rescale=1./255,validation_split=0.2,horizontal_flip=True\n",
    "    )\n",
    "    \n",
    "    train_generator=train_datagen.flow_from_dataframe(dataframe=df_train,\n",
    "                                                      directory=\"./preprocessed images/\",\n",
    "                                                      x_col=\"file_name\",\n",
    "                                                      y_col=\"diagnosis\",\n",
    "                                                      batch_size=BATCH_SIZE,\n",
    "                                                      class_mode=\"categorical\",\n",
    "                                                      target_size=(HEIGHT, WIDTH),\n",
    "                                                      subset='training')\n",
    "    \n",
    "    \n",
    "    \n",
    "    valid_generator=train_datagen.flow_from_dataframe(dataframe=df_train,\n",
    "                                                      directory=\"./preprocessed images/\",\n",
    "                                                      x_col=\"file_name\",\n",
    "                                                      y_col=\"diagnosis\",\n",
    "                                                      batch_size=BATCH_SIZE,\n",
    "                                                      class_mode=\"categorical\", \n",
    "                                                      target_size=(HEIGHT, WIDTH),\n",
    "                                                      subset='validation'\n",
    "                                                      )\n",
    "    \n",
    "    \n",
    "    return train_generator,valid_generator"
   ]
  },
  {
   "cell_type": "code",
   "execution_count": null,
   "id": "2cd27488",
   "metadata": {},
   "outputs": [],
   "source": [
    "train_generator,valid_generator = img_generator(df_train)"
   ]
  },
  {
   "cell_type": "code",
   "execution_count": 13,
   "id": "12b53730",
   "metadata": {},
   "outputs": [
    {
     "name": "stdout",
     "output_type": "stream",
     "text": [
      "393 98\n"
     ]
    }
   ],
   "source": [
    "STEP_SIZE_TRAIN = train_generator.n//train_generator.batch_size\n",
    "STEP_SIZE_VALID = valid_generator.n//valid_generator.batch_size\n",
    "print(STEP_SIZE_TRAIN,STEP_SIZE_VALID)"
   ]
  },
  {
   "cell_type": "code",
   "execution_count": 18,
   "id": "a78b1ac2",
   "metadata": {},
   "outputs": [],
   "source": [
    "model = tf.keras.models.Sequential()\n",
    "\n",
    "model.add(tf.keras.layers.Conv2D(32, (3, 3), activation='relu', input_shape=(224, 224, 3)))\n",
    "model.add(tf.keras.layers.MaxPooling2D((2, 2)))\n",
    "model.add(tf.keras.layers.Conv2D(64, (3, 3), activation='relu'))\n",
    "model.add(tf.keras.layers.MaxPooling2D((2, 2)))\n",
    "model.add(tf.keras.layers.Conv2D(128, (3, 3), activation='relu'))\n",
    "model.add(tf.keras.layers.MaxPooling2D((2, 2)))\n",
    "model.add(tf.keras.layers.Conv2D(256, (3, 3), activation='relu'))\n",
    "model.add(tf.keras.layers.MaxPooling2D((2, 2)))\n",
    "model.add(tf.keras.layers.Conv2D(512, (3, 3), activation='relu'))\n",
    "model.add(tf.keras.layers.MaxPooling2D((2, 2)))\n",
    "model.add(tf.keras.layers.Conv2D(128, (3, 3), activation='relu'))\n",
    "model.add(tf.keras.layers.MaxPooling2D((2, 2)))\n",
    "model.add(tf.keras.layers.Flatten())\n",
    "model.add(tf.keras.layers.Dense(512, activation='relu'))\n",
    "model.add(tf.keras.layers.Dropout(0.5))\n",
    "model.add(tf.keras.layers.Dense(5, activation='softmax'))\n"
   ]
  },
  {
   "cell_type": "code",
   "execution_count": 19,
   "id": "bad25db7",
   "metadata": {},
   "outputs": [],
   "source": [
    "model.compile(loss='categorical_crossentropy', optimizer='adam', metrics=['accuracy'])\n",
    "\n",
    "model.fit_generator(generator=train_generator,\n",
    "                    steps_per_epoch=STEP_SIZE_TRAIN,\n",
    "                    validation_data=valid_generator,\n",
    "                    validation_steps=STEP_SIZE_VALID,\n",
    "                    epochs=30,\n",
    "                    )\n"
   ]
  },
  {
   "cell_type": "code",
   "execution_count": 41,
   "id": "0d4c12f3",
   "metadata": {},
   "outputs": [
    {
     "name": "stdout",
     "output_type": "stream",
     "text": [
      "Epoch 1/2\n",
      "393/393 [==============================] - 29s 67ms/step - loss: 1.4518 - accuracy: 0.4264 - val_loss: 1.3050 - val_accuracy: 0.5128\n",
      "Epoch 2/2\n",
      "393/393 [==============================] - 26s 65ms/step - loss: 1.2999 - accuracy: 0.4583 - val_loss: 1.2591 - val_accuracy: 0.5179\n",
      "Epoch 1/15\n",
      "393/393 [==============================] - 62s 141ms/step - loss: 1.3452 - accuracy: 0.6093 - val_loss: 1.2559 - val_accuracy: 0.4643 - lr: 1.0000e-04\n",
      "Epoch 2/15\n",
      "393/393 [==============================] - 54s 138ms/step - loss: 0.8221 - accuracy: 0.6619 - val_loss: 1.0578 - val_accuracy: 0.6556 - lr: 1.0000e-04\n",
      "Epoch 3/15\n",
      "393/393 [==============================] - 54s 137ms/step - loss: 0.7283 - accuracy: 0.7014 - val_loss: 0.7716 - val_accuracy: 0.7130 - lr: 1.0000e-04\n",
      "Epoch 4/15\n",
      "393/393 [==============================] - 54s 138ms/step - loss: 0.6731 - accuracy: 0.7231 - val_loss: 0.6322 - val_accuracy: 0.7640 - lr: 1.0000e-04\n",
      "Epoch 5/15\n",
      "393/393 [==============================] - 54s 137ms/step - loss: 0.6093 - accuracy: 0.7505 - val_loss: 0.6460 - val_accuracy: 0.7730 - lr: 1.0000e-04\n",
      "Epoch 6/15\n",
      "393/393 [==============================] - 54s 137ms/step - loss: 0.5557 - accuracy: 0.7753 - val_loss: 0.6937 - val_accuracy: 0.7691 - lr: 1.0000e-04\n",
      "Epoch 7/15\n",
      "393/393 [==============================] - ETA: 0s - loss: 0.5207 - accuracy: 0.8005\n",
      "Epoch 7: ReduceLROnPlateau reducing learning rate to 4.999999873689376e-05.\n",
      "393/393 [==============================] - 54s 138ms/step - loss: 0.5207 - accuracy: 0.8005 - val_loss: 0.6380 - val_accuracy: 0.7615 - lr: 1.0000e-04\n",
      "Epoch 8/15\n",
      "393/393 [==============================] - 54s 137ms/step - loss: 0.3667 - accuracy: 0.8627 - val_loss: 0.7352 - val_accuracy: 0.7500 - lr: 5.0000e-05\n",
      "Epoch 9/15\n",
      "393/393 [==============================] - 55s 139ms/step - loss: 0.3205 - accuracy: 0.8846 - val_loss: 0.5857 - val_accuracy: 0.8099 - lr: 5.0000e-05\n",
      "Epoch 10/15\n",
      "393/393 [==============================] - 55s 139ms/step - loss: 0.2722 - accuracy: 0.9101 - val_loss: 0.5872 - val_accuracy: 0.8112 - lr: 5.0000e-05\n",
      "Epoch 11/15\n",
      "393/393 [==============================] - 55s 140ms/step - loss: 0.2211 - accuracy: 0.9257 - val_loss: 0.6893 - val_accuracy: 0.8316 - lr: 5.0000e-05\n",
      "Epoch 12/15\n",
      "393/393 [==============================] - ETA: 0s - loss: 0.1917 - accuracy: 0.9350\n",
      "Epoch 12: ReduceLROnPlateau reducing learning rate to 2.499999936844688e-05.\n",
      "393/393 [==============================] - 55s 139ms/step - loss: 0.1917 - accuracy: 0.9350 - val_loss: 0.6736 - val_accuracy: 0.8291 - lr: 5.0000e-05\n",
      "Epoch 13/15\n",
      "393/393 [==============================] - 55s 140ms/step - loss: 0.1206 - accuracy: 0.9630 - val_loss: 0.6747 - val_accuracy: 0.7985 - lr: 2.5000e-05\n",
      "Epoch 14/15\n",
      "393/393 [==============================] - 55s 139ms/step - loss: 0.1133 - accuracy: 0.9643 - val_loss: 0.6938 - val_accuracy: 0.8125 - lr: 2.5000e-05\n",
      "Epoch 15/15\n",
      "393/393 [==============================] - ETA: 0s - loss: 0.0877 - accuracy: 0.9713\n",
      "Epoch 15: ReduceLROnPlateau reducing learning rate to 1.249999968422344e-05.\n",
      "393/393 [==============================] - 55s 139ms/step - loss: 0.0877 - accuracy: 0.9713 - val_loss: 0.8120 - val_accuracy: 0.8342 - lr: 2.5000e-05\n"
     ]
    }
   ],
   "source": [
    "import keras\n",
    "from keras import applications\n",
    "from keras.preprocessing.image import ImageDataGenerator\n",
    "from keras import optimizers,Model,Sequential\n",
    "from keras.layers import Input,GlobalAveragePooling2D,Dropout,Dense,Activation\n",
    "from keras.callbacks import EarlyStopping,ReduceLROnPlateau\n",
    "\n",
    "def ResNet50_model(input_shape, n_out):\n",
    "    input_tensor = Input(shape=input_shape)\n",
    "    base_model = applications.ResNet50(weights=None, include_top=False,input_tensor=input_tensor)\n",
    "    base_model.load_weights('C:/Users/Salah/.keras/models/resnet50_weights_tf_dim_ordering_tf_kernels_notop.h5')\n",
    "\n",
    "    x = GlobalAveragePooling2D()(base_model.output)\n",
    "    x = Dropout(0.5)(x)\n",
    "    x = Dense(1024, activation='relu')(x)\n",
    "    x = Dropout(0.5)(x)\n",
    "    final_output = Dense(n_out, activation='softmax', name='final_output')(x)\n",
    "    model = Model(input_tensor, final_output)\n",
    "    return model\n",
    "\n",
    "model = ResNet50_model(input_shape=(HEIGHT, WIDTH, CANAL), n_out=N_CLASSES)\n",
    "\n",
    "\n",
    "for layer in model.layers:\n",
    "    layer.trainable = True\n",
    "\n",
    "\n",
    "rlrop = ReduceLROnPlateau(monitor='val_loss', mode='auto', patience=RLROP_PATIENCE, factor=DECAY_DROP, min_lr=1e-6, verbose=1)\n",
    "\n",
    "callback_list = [rlrop]\n",
    "optimizer = optimizers.Adam(lr=LEARNING_RATE)\n",
    "model.compile(optimizer=optimizer, loss=\"categorical_crossentropy\",  metrics=['accuracy'])\n",
    "\n",
    "history_finetunning = model.fit_generator(generator=train_generator,\n",
    "                                          steps_per_epoch=STEP_SIZE_TRAIN,\n",
    "                                          validation_data=valid_generator,\n",
    "                                          validation_steps=STEP_SIZE_VALID,\n",
    "                                          epochs=15,\n",
    "                                          callbacks=callback_list,\n",
    "                                          verbose=1).history"
   ]
  },
  {
   "cell_type": "code",
   "execution_count": 39,
   "id": "4d54ae92",
   "metadata": {},
   "outputs": [],
   "source": [
    "model.save('ResNet50 Diabetic Retinopathy final with 3&4 augmentation 1024 dense.h5')"
   ]
  },
  {
   "cell_type": "code",
   "execution_count": null,
   "id": "beed210a",
   "metadata": {},
   "outputs": [],
   "source": [
    "import keras\n",
    "from keras import applications\n",
    "from keras.preprocessing.image import ImageDataGenerator\n",
    "from keras import optimizers,Model,Sequential\n",
    "from keras.layers import Input,GlobalAveragePooling2D,Dropout,Dense,Activation\n",
    "from keras.callbacks import EarlyStopping,ReduceLROnPlateau\n",
    "from tensorflow.keras.applications import EfficientNetB5\n",
    "\n",
    "\n",
    "def EfficientNetB5_model(input_shape, n_out):\n",
    "    input_tensor = Input(shape=input_shape)\n",
    "    base_model = EfficientNetB5(weights='imagenet', include_top=False, input_tensor=input_tensor)\n",
    "    \n",
    "    base_model.load_weights('C:/Users/Salah/.keras/models/efficientnetb5_notop.h5')\n",
    "\n",
    "    x = GlobalAveragePooling2D()(base_model.output)\n",
    "    x = Dropout(0.5)(x)\n",
    "    x = Dense(2048, activation='relu')(x)\n",
    "    x = Dropout(0.5)(x)\n",
    "    final_output = Dense(n_out, activation='softmax', name='final_output')(x)\n",
    "    model = Model(input_tensor, final_output)\n",
    "    \n",
    "    return model\n",
    "\n",
    "\n",
    "for layer in model.layers:\n",
    "    layer.trainable = True\n",
    "\n",
    "\n",
    "rlrop = ReduceLROnPlateau(monitor='val_loss', mode='auto', patience=RLROP_PATIENCE, factor=DECAY_DROP, min_lr=1e-6, verbose=1)\n",
    "\n",
    "callback_list = [rlrop] \n",
    "optimizer = optimizers.Adam(lr=LEARNING_RATE)\n",
    "model.compile(optimizer=optimizer, loss=\"categorical_crossentropy\",  metrics=['accuracy'])\n",
    "\n",
    "history_finetunning = model.fit_generator(generator=train_generator,\n",
    "                                          steps_per_epoch=STEP_SIZE_TRAIN,\n",
    "                                          validation_data=valid_generator,\n",
    "                                          validation_steps=STEP_SIZE_VALID,\n",
    "                                          epochs=15,\n",
    "                                          callbacks=callback_list,\n",
    "                                          verbose=1).history\n",
    "model.save('EfficientNetB5 Diabetic Retinopathy final with 3 augmentation 5 classes.h5')"
   ]
  },
  {
   "cell_type": "code",
   "execution_count": null,
   "id": "65708c8e",
   "metadata": {},
   "outputs": [],
   "source": [
    "def VGG16_model(input_shape, n_out):\n",
    "    input_tensor = Input(shape=input_shape)\n",
    "\n",
    "    vgg_model = VGG16(weights='imagenet', include_top=False, input_shape=(HEIGHT, WIDTH, 3))\n",
    "\n",
    "    # Freeze the layers of the VGG16 model\n",
    "    for layer in vgg_model.layers:\n",
    "        layer.trainable = False\n",
    "\n",
    "    # Create a new model\n",
    "    model = Sequential()\n",
    "    model.add(vgg_model)\n",
    "    model.add(keras.layers.Flatten())\n",
    "    model.add(Dense(256, activation='relu'))\n",
    "    model.add(Dense(5, activation='softmax'))\n",
    "\n",
    "    # Compile the model\n",
    "    model.compile(optimizer=\"adam\", loss='categorical_crossentropy', metrics=['accuracy'])\n",
    "    return model\n",
    "\n",
    "model = VGG16_model(input_shape=(224, 224, CANAL), n_out=N_CLASSES)\n",
    "\n",
    "\n",
    "for layer in model.layers:\n",
    "    layer.trainable = True\n",
    "\n",
    "\n",
    "rlrop = ReduceLROnPlateau(monitor='val_loss', mode='auto', patience=RLROP_PATIENCE, factor=DECAY_DROP, min_lr=1e-6, verbose=1)\n",
    "\n",
    "callback_list = [rlrop] \n",
    "optimizer = optimizers.Adam(lr=LEARNING_RATE)\n",
    "model.compile(optimizer=optimizer, loss=\"categorical_crossentropy\",  metrics=['accuracy'])\n",
    "\n",
    "history_finetunning = model.fit_generator(generator=train_generator,\n",
    "                                          steps_per_epoch=STEP_SIZE_TRAIN,\n",
    "                                          validation_data=valid_generator,\n",
    "                                          validation_steps=STEP_SIZE_VALID,\n",
    "                                          epochs=15,\n",
    "                                          callbacks=callback_list,\n",
    "                                          verbose=1).history\n",
    "\n",
    "model.save('VGG16-diabetic retinopathy class 3&4 augmented.h5')"
   ]
  },
  {
   "cell_type": "code",
   "execution_count": null,
   "id": "819f0ff6",
   "metadata": {},
   "outputs": [],
   "source": [
    "def DenseNet_model(input_shape, n_out):\n",
    "    DenseNet121_model = DenseNet121(include_top=False, weights=None,\n",
    "                                    input_tensor=keras.layers.Input(shape=(HEIGHT, WIDTH, 3)))\n",
    "    DenseNet121_model.load_weights('D://Faculty//Semester 6//AI Diabetic Retinopathy//DenseNet-BC-121-32-no-top.h5')\n",
    "\n",
    "\n",
    "    p = keras.layers.GlobalAveragePooling2D()(DenseNet121_model.output)\n",
    "\n",
    "    d11 = keras.layers.Dense(units=256, activation='relu', kernel_regularizer=keras.regularizers.l2(0.0001))(p)\n",
    "    o1 = keras.layers.Dense(units=5, activation='softmax')(d11)\n",
    "    model = keras.models.Model(inputs=DenseNet121_model.input, outputs=o1)\n",
    "    sgd = keras.optimizers.SGD(lr=0.01, decay=1e-6, momentum=0.9, nesterov=True)\n",
    "    model.compile(optimizer=sgd, loss='categorical_crossentropy', metrics=['accuracy'])\n",
    "    print(model.summary())\n",
    "    return model\n",
    "\n",
    "model = DenseNet_model(input_shape=(224, 224, CANAL), n_out=N_CLASSES)\n",
    "\n",
    "\n",
    "\n",
    "for layer in model.layers:\n",
    "    layer.trainable = True\n",
    "\n",
    "\n",
    "rlrop = ReduceLROnPlateau(monitor='val_loss', mode='auto', patience=RLROP_PATIENCE, factor=DECAY_DROP, min_lr=1e-6, verbose=1)\n",
    "\n",
    "callback_list = [rlrop] \n",
    "optimizer = optimizers.Adam(lr=LEARNING_RATE)\n",
    "model.compile(optimizer=optimizer, loss=\"categorical_crossentropy\",  metrics=['accuracy'])\n",
    "\n",
    "history_finetunning = model.fit_generator(generator=train_generator,\n",
    "                                          steps_per_epoch=STEP_SIZE_TRAIN,\n",
    "                                          validation_data=valid_generator,\n",
    "                                          validation_steps=STEP_SIZE_VALID,\n",
    "                                          epochs=15,\n",
    "                                          callbacks=callback_list,\n",
    "                                          verbose=1).history\n",
    "\n",
    "model.save('DenseNet-diabetic retinopathy class 3&4 augmented.h5')"
   ]
  },
  {
   "cell_type": "code",
   "execution_count": 19,
   "id": "d20c7510",
   "metadata": {},
   "outputs": [],
   "source": [
    "from keras.models import load_model\n",
    "from tensorflow.keras.preprocessing import image\n",
    "from sklearn.metrics import confusion_matrix,classification_report,ConfusionMatrixDisplay\n",
    "import numpy as np\n",
    "\n",
    "def predict_labels_return(modelName):\n",
    "    model_path = \"D:\\\\projects\\\\AI projects\\\\\"+modelName\n",
    "    model = load_model(model_path)\n",
    "\n",
    "    test_generator = valid_generator \n",
    "    true_labels = test_generator.classes\n",
    "    \n",
    "    print(\"training accuracy:\",model.evaluate(train_generator)[1])\n",
    "    print(\"\\n\")\n",
    "    print(\"validation accuracy:\",model.evaluate(valid_generator)[1])\n",
    "    print(\"\\n\")\n",
    "\n",
    "    # Generate predictions\n",
    "    predicted_labels = []\n",
    "    for images in test_generator.filepaths:\n",
    "        image_path=\"D:\\\\projects\\\\AI projects\\\\\"+images\n",
    "        img = image.load_img(image_path, target_size=(HEIGHT, WIDTH))\n",
    "        img_array = image.img_to_array(img)\n",
    "        img_array = np.expand_dims(img_array, axis=0)\n",
    "        img_array /= 255.0\n",
    "        predictions = model.predict(img_array)\n",
    "        predicted_class = np.argmax(predictions)\n",
    "        predicted_labels.append(predicted_class)# Assuming it's a classification task\n",
    "    return true_labels,predicted_labels\n"
   ]
  },
  {
   "cell_type": "code",
   "execution_count": 20,
   "id": "f2a2104f",
   "metadata": {},
   "outputs": [],
   "source": [
    "def calculate_metrics(true_labels,predicted_labels):\n",
    "    cm = confusion_matrix(true_labels, predicted_labels)\n",
    "    print(\"Confusion Matrix:\\n\")\n",
    "    cm_display = ConfusionMatrixDisplay(confusion_matrix = cm, display_labels = [0,1,2,3,4])\n",
    "    cm_display.plot()\n",
    "    plt.show()\n",
    "    print(\"\\n\")\n",
    "    print(classification_report(true_labels, predicted_labels))"
   ]
  },
  {
   "cell_type": "code",
   "execution_count": null,
   "id": "4a92d675",
   "metadata": {},
   "outputs": [],
   "source": [
    "true_labels,predicted_labels = predict_labels_return(\"DenseNet-diabetic retinopathy class 3&4 augmented.h5\")"
   ]
  },
  {
   "cell_type": "code",
   "execution_count": 22,
   "id": "ba2f748e",
   "metadata": {},
   "outputs": [
    {
     "name": "stdout",
     "output_type": "stream",
     "text": [
      "Confusion Matrix:\n",
      "\n"
     ]
    },
    {
     "data": {
      "image/png": "[encoded data removed]",
      "text/plain": [
       "<Figure size 640x480 with 2 Axes>"
      ]
     },
     "metadata": {},
     "output_type": "display_data"
    },
    {
     "name": "stdout",
     "output_type": "stream",
     "text": [
      "\n",
      "\n",
      "              precision    recall  f1-score   support\n",
      "\n",
      "           0       0.96      0.99      0.98       366\n",
      "           1       0.70      0.59      0.64        85\n",
      "           2       0.85      0.79      0.82       228\n",
      "           3       0.73      0.93      0.82        43\n",
      "           4       0.77      0.89      0.83        64\n",
      "\n",
      "    accuracy                           0.88       786\n",
      "   macro avg       0.80      0.84      0.82       786\n",
      "weighted avg       0.87      0.88      0.87       786\n",
      "\n"
     ]
    }
   ],
   "source": [
    "calculate_metrics(true_labels,predicted_labels)"
   ]
  },
  {
   "cell_type": "code",
   "execution_count": null,
   "id": "12c7645e",
   "metadata": {},
   "outputs": [],
   "source": [
    "true_labels,predicted_labels = predict_labels_return(\"EfficientNetB5 Diabetic Retinopathy final with 3&4 augmentation.h5\")"
   ]
  },
  {
   "cell_type": "code",
   "execution_count": 24,
   "id": "4b4eedda",
   "metadata": {},
   "outputs": [
    {
     "name": "stdout",
     "output_type": "stream",
     "text": [
      "Confusion Matrix:\n",
      "\n"
     ]
    },
    {
     "data": {
      "image/png": "[encoded data removed]",
      "text/plain": [
       "<Figure size 640x480 with 2 Axes>"
      ]
     },
     "metadata": {},
     "output_type": "display_data"
    },
    {
     "name": "stdout",
     "output_type": "stream",
     "text": [
      "\n",
      "\n",
      "              precision    recall  f1-score   support\n",
      "\n",
      "           0       0.96      0.98      0.97       366\n",
      "           1       0.57      0.45      0.50        85\n",
      "           2       0.83      0.75      0.79       228\n",
      "           3       0.67      0.98      0.79        43\n",
      "           4       0.74      0.89      0.81        64\n",
      "\n",
      "    accuracy                           0.85       786\n",
      "   macro avg       0.75      0.81      0.77       786\n",
      "weighted avg       0.85      0.85      0.84       786\n",
      "\n"
     ]
    }
   ],
   "source": [
    "calculate_metrics(true_labels,predicted_labels)"
   ]
  },
  {
   "cell_type": "code",
   "execution_count": null,
   "id": "ee9d5b6c",
   "metadata": {},
   "outputs": [],
   "source": [
    "true_labels,predicted_labels = predict_labels_return(\"VGG16-diabetic retinopathy class 3&4 augmented.h5\")"
   ]
  },
  {
   "cell_type": "code",
   "execution_count": 26,
   "id": "08c2a665",
   "metadata": {},
   "outputs": [
    {
     "name": "stdout",
     "output_type": "stream",
     "text": [
      "Confusion Matrix:\n",
      "\n"
     ]
    },
    {
     "data": {
      "image/png": "[encoded data removed]",
      "text/plain": [
       "<Figure size 640x480 with 2 Axes>"
      ]
     },
     "metadata": {},
     "output_type": "display_data"
    },
    {
     "name": "stdout",
     "output_type": "stream",
     "text": [
      "\n",
      "\n",
      "              precision    recall  f1-score   support\n",
      "\n",
      "           0       0.97      0.99      0.98       366\n",
      "           1       0.67      0.46      0.55        85\n",
      "           2       0.82      0.73      0.77       228\n",
      "           3       0.69      0.88      0.78        43\n",
      "           4       0.56      0.84      0.68        64\n",
      "\n",
      "    accuracy                           0.84       786\n",
      "   macro avg       0.74      0.78      0.75       786\n",
      "weighted avg       0.84      0.84      0.84       786\n",
      "\n"
     ]
    }
   ],
   "source": [
    "calculate_metrics(true_labels,predicted_labels)"
   ]
  },
  {
   "cell_type": "code",
   "execution_count": null,
   "id": "c6608bfa",
   "metadata": {},
   "outputs": [],
   "source": [
    "true_labels,predicted_labels = predict_labels_return(\"ResNet50 Diabetic Retinopathy final with 3&4 augmentation 1024 dense.h5\")"
   ]
  },
  {
   "cell_type": "code",
   "execution_count": 28,
   "id": "cdf7ca03",
   "metadata": {},
   "outputs": [
    {
     "name": "stdout",
     "output_type": "stream",
     "text": [
      "Confusion Matrix:\n",
      "\n"
     ]
    },
    {
     "data": {
      "image/png": "[encoded data removed]",
      "text/plain": [
       "<Figure size 640x480 with 2 Axes>"
      ]
     },
     "metadata": {},
     "output_type": "display_data"
    },
    {
     "name": "stdout",
     "output_type": "stream",
     "text": [
      "\n",
      "\n",
      "              precision    recall  f1-score   support\n",
      "\n",
      "           0       0.97      0.98      0.97       366\n",
      "           1       0.65      0.51      0.57        85\n",
      "           2       0.76      0.82      0.78       228\n",
      "           3       0.57      0.30      0.39        43\n",
      "           4       0.71      0.88      0.78        64\n",
      "\n",
      "    accuracy                           0.84       786\n",
      "   macro avg       0.73      0.70      0.70       786\n",
      "weighted avg       0.83      0.84      0.83       786\n",
      "\n"
     ]
    }
   ],
   "source": [
    "calculate_metrics(true_labels,predicted_labels)"
   ]
  },
  {
   "cell_type": "code",
   "execution_count": 32,
   "id": "e4aa6b7f",
   "metadata": {},
   "outputs": [
    {
     "name": "stdout",
     "output_type": "stream",
     "text": [
      "WARNING:tensorflow:5 out of the last 790 calls to <function Model.make_predict_function.<locals>.predict_function at 0x000001BB576579A0> triggered tf.function retracing. Tracing is expensive and the excessive number of tracings could be due to (1) creating @tf.function repeatedly in a loop, (2) passing tensors with different shapes, (3) passing Python objects instead of tensors. For (1), please define your @tf.function outside of the loop. For (2), @tf.function has reduce_retracing=True option that can avoid unnecessary retracing. For (3), please refer to https://www.tensorflow.org/guide/function#controlling_retracing and https://www.tensorflow.org/api_docs/python/tf/function for  more details.\n",
      "1/1 [==============================] - 2s 2s/step\n",
      "Predicted class: 0\n"
     ]
    }
   ],
   "source": [
    "from keras.models import load_model\n",
    "from tensorflow.keras.preprocessing import image\n",
    "\n",
    "model_path = \"D:\\\\projects\\\\AI projects\\\\DenseNet-diabetic retinopathy class 3&4 augmented.h5\"\n",
    "model = load_model(model_path)\n",
    "\n",
    "# Load and preprocess the image\n",
    "image_path = \"D:/projects/AI projects/preprocessed images/144a1a426137.png\"\n",
    "img = image.load_img(image_path, target_size=(HEIGHT, WIDTH))\n",
    "img_array = image.img_to_array(img)\n",
    "img_array = np.expand_dims(img_array, axis=0)\n",
    "img_array /= 255.0  # Assuming you used rescaling in your training data\n",
    "\n",
    "# Use the model to predict\n",
    "predictions = model.predict(img_array)\n",
    "predicted_class = np.argmax(predictions)  # Assuming it's a classification task\n",
    "\n",
    "# Print the predicted class\n",
    "print(\"Predicted class:\", predicted_class)"
   ]
  },
  {
   "cell_type": "code",
   "execution_count": 28,
   "id": "ea3b6b6f",
   "metadata": {},
   "outputs": [
    {
     "name": "stdout",
     "output_type": "stream",
     "text": [
      "Filenames in the valid generator:\n",
      "['000c1434d8d7.png', '001639a390f0.png', '0024cdab0c1e.png', '002c21358ce6.png', '005b95c28852.png', '0083ee8054ee.png', '0097f532ac9f.png', '00a8624548a9.png', '00b74780d31d.png', '00cb6555d108.png', '00cc2b75cddd.png', '00e4ddff966a.png', '00f6c1be5a33.png', '0104b032c141.png', '0124dffecf29.png', '0125fbd2e791.png', '012a242ac6ff.png', '014508ccb9cb.png', '0151781fe50b.png', '0161338f53cc.png', '0180bfa26c0b.png', '0182152c50de.png', '01b3aed3ed4c.png', '01c7808d901d.png', '01d9477b1171.png', '01eb826f6467.png', '01f7bb8be950.png', '0212dd31f623.png', '022f820027b8.png', '0231642cf1c2.png', '0232dfea7547.png', '02358b47ea89.png', '0243404e8a00.png', '025a169a0bb0.png', '02685f13cefd.png', '026dcd9af143.png', '02cd34a85b24.png', '02da652c74b8.png', '02dda30d3acf.png', '0304bedad8fe.png', '0318598cfd16.png', '032d7b0b4bf6.png', '033f2b43de6d.png', '034cb07a550f.png', '03676c71ed1b.png', '0369f3efe69b.png', '03747397839f.png', '03a7f4a5786f.png', '03b373718013.png', '03c85870824c.png', '03e25101e8e8.png', '03fd50da928d.png', '03ff7d159f10.png', '0415fc68b176.png', '041f09eec1e8.png', '0423237770a7.png', '042470a92154.png', '04579e31e4be.png', '04a6fc58dabc.png', '04ac765f91a1.png', '04aef84a2cc1.png', '04d029cfb612.png', '04efb1a284cc.png', '050bb1eafa76.png', '05113073b268.png', '05195a3db5e2.png', '0519b934f6b1.png', '052d9a3fe55a.png', '05339950962e.png', '054b1b305160.png', '0551676cc2aa.png', '059bc89df7f4.png', '05a5183c92d0.png', '05b1bb2bdb81.png', '05cd0178ccfe.png', '05e9126dfa5c.png', '06024377d573.png', '060e00d1e2ab.png', '064af6592ba6.png', '06586082a24d.png', '0684311afdfc.png', '069f43616fab.png', '06b71823f9cd.png', '06be1092a062.png', '07083738b75e.png', '0709652336e2.png', '070d4ce5fd90.png', '070f67572d03.png', '07122e268a1d.png', '071435a218ec.png', '07419eddd6be.png', '07596907347b.png', '0773a1c326ad.png', '07751b94a88a.png', '0790515cf5af.png', '07929d32b5b3.png', '07a0be6b347f.png', '07a0e34c8d20.png', '07a1c7073982.png', '07a2b8cabf6b.png', '07a3be30563b.png', '07d8db76b301.png', '07e827469099.png', '07f5d7baf907.png', '08037e4490e5.png', '080ee76c958c.png', '080f66eedfb9.png', '084c02cf077f.png', '0851d6a69589.png', '086d41d17da8.png', '08752092140d.png', '08a3875063c3.png', '08b6e3240858.png', '08bef347f40d.png', '08c17a2d95b7.png', '08c60c647673.png', '08ee569d4721.png', '08f8838d69bb.png', '09237bf783a4.png', '0924cec998fa.png', '093a42649c29.png', '093cf723fede.png', '094858f005ab.png', '0953c0ac1735.png', '096436d68d06.png', '09662e462531.png', '0981195eb9fb.png', '099021fac3c9.png', '09934421c79e.png', '09935d72892b.png', '09c8323c612e.png', '09eeafa9656a.png', '09f1111a388a.png', '09f6ab477654.png', '0a09aa7356c0.png', '0a1076183736.png', '0a3202889f4d.png', '0a38b552372d.png', '0a4e1a29ffff.png', '0a61bddab956.png', '0a74c92e287c.png', '0a85a1e8f9e9.png', '0a902c80d5da.png', '0a9ec1e99ce4.png', '0abf0c485f66.png', '0ac436400db4.png', '0ad7f631dedb.png', '0ada12c0e78f.png', '0ae2dd2e09ea.png', '0af296d2f04a.png', '0afbeeef0ff7.png', '0afdfe5f422c.png', '0b00f8a77510.png', '0b2ea8f268cf.png', '0b3efe669365.png', '0b64a0a06f9a.png', '0b8bdec9d869.png', '0babc12807b2.png', '0bf37ca3156a.png', '0c2e2369dfff.png', '0c38940e1f80.png', '0c43c79e8cfb.png', '0c55d58bebaf.png', '0c76fd494af6.png', '0c7e82daf5a0.png', '0c917c372572.png', '0ca0aee4d57e.png', '0cae727cf119.png', '0cb14014117d.png', '0cb6b898389f.png', '0cbcc7b23613.png', '0cd31078cd08.png', '0ce062f26edc.png', '0ceb222f6629.png', '0cecc2864b7f.png', '0d0a21fd354f.png', '0d0b8fc9ab5c.png', '0d310aba6373.png', '0d744aed4d64.png', '0d8f60ed9280.png', '0d9a9896f801.png', '0da09e3ce8f1.png', '0da321efbce6.png', '0da632ca45e0.png', '0daddc45d832.png', '0db1d8dcf219.png', '0dbaa09a458c.png', '0dbe6c26cedc.png', '0dc031c94225.png', '0dc8d25b3f69.png', '0dce95217626.png', '0e0003ddd8df.png', '0e0fc1d9810c.png', '0e3572b5884a.png', '0e43c8298fc0.png', '0e75d51152fc.png', '0e82bcacc475.png', '0e94cd271c00.png', '0eb52045349f.png', '0eced86c9db8.png', '0edadb2aa127.png', '0ef4c61dc056.png', '0efc93ec838b.png', '0eff8eacb2f7.png', '0f364b7d4384.png', '0f495d87656a.png', '0f6e645466a2.png', '0f882877bf13.png', '0f96c358a250.png', '0fb1053285cf.png', '0fb560f9adb2.png', '0fbbd665431f.png', '0fc6829da85b.png', '0fcfc6301f3d.png', '0fd16b64697e.png', '0fe31196e0e8.png', '0fffa73e2402.png', '1002b5151b8e.png', '1002f3fe38f0.png', '1006345f70b7.png', '101b9ebfc720.png', '103abbd8b63e.png', '103f97a2ab15.png', '107aea0d9289.png', '10a5026eb8e6.png', '10bf25731c08.png', '10de500cf0c5.png', '10ecc5292ab1.png', '10eefba568dd.png', '10f10fd30718.png', '10f36b0239fb.png', '10f6ef37fe43.png', '10fca1abf338.png', '1116271db4ea.png', '111898ab463d.png', '1120f6d08d95.png', '11242a67122d.png', '1124ffcd76c2.png', '115e42dd6a81.png', '1177d583c807.png', '11b220a397b8.png', '11b5c77fbf79.png', '11d8e5eaee5b.png', '12025b34deb8.png', '12058bbb8299.png', '1269ab57c2e6.png', '12a82fc7d73e.png', '12ab2f6397f0.png', '12ae44be0d38.png', '12b57dac703e.png', '12bc439d373a.png', '12ce6a1a1f31.png', '12e3f5f2cb17.png', '12e6e66c80a7.png', '12ef75375322.png', '13063d1bc4ea.png', '13073f075a56.png', '135575dc57c9.png', '13ab8db8c700.png', '13c191b59ed0.png', '13d014ccd136.png', '13d411c85ffd.png', '13d71389563f.png', '1409ab48175a.png', '1411c8ab7161.png', '1414128bead0.png', '141735b57ec0.png', '1438288bb2e1.png', '143db89c11c8.png', '144a1a426137.png', '144b01e7b993.png', '14515b8f19b6.png', '14c3b41d289c.png', '14e3f84445f7.png', '14ee87d6cc42.png', '1509d097b69a.png', '150f92b45349.png', '150fc7127582.png', '152db3de8120.png', '1541226c5d72.png', '15528e740543.png', '155e2df6bfcf.png', '157d17349cc6.png', '1594ca6c30d3.png', '15b21c80cc31.png', '15bed5adde74.png', '15c24478ac72.png', '15cc2aef772a.png', '15cd5f52d300.png', '15e24b73d4a7.png', '15e96e848b46.png', '15f440753916.png', '15f8d769935c.png', '1601c939412f.png', '16060f05d047.png', '1608c82a263f.png', '1623e8e3adc4.png', '1632c4311fc9.png', '1633f8291a80.png', '1638404f385c.png', '164cd5a3a6cd.png', '165634a6167e.png', '165c548185f8.png', '165cd2070ebd.png', '166068a24416.png', '16ce555748d8.png', '17188c13e635.png', '172df1330a60.png', '174db0854291.png', '175dd560810a.png', '1782142e17d9.png', '178412895d5e.png', '17d7d6b092f4.png', '17d997fe1090.png', '17e6116b89b3.png', '17eb5d4ad740.png', '17eff993386f.png', '17f6c7072f61.png', '180afe1d5ef7.png', '18323d8f2470.png', '1844a039b4ea.png', '184a185e7447.png', '18621b9ca978.png', '1864d3411143.png', '186c1835eec5.png', '187f6ccda87a.png', '188219f2d9c6.png', '188a9323be03.png', '1891698febce.png', '189cbbc9e5e3.png', '18af532e7e1e.png', '18b06f56ab27.png', '18b7e34eab8f.png', '18b99159a14f.png', '18cde9649e90.png', '18ce0cdc473d.png', '18d8fdb140b7.png', '18f1f979d30d.png', '190a309f2cc5.png', '19113e5f45ec.png', '191348830ddf.png', '191a711852bd.png', '191cf5668f33.png', '19244004583f.png', '1943983492e5.png', '194814669fee.png', '19545647508e.png', '1968183f0e61.png', '196e6a186452.png', '19722bff5a09.png', '197af0de76e2.png', '19b0e3c734f5.png', '19e350c7c83c.png', '19ef4d292196.png', '1a03a7970337.png', '1a0dbc6c0cda.png', '1a19f2ef4472.png', '1a1b4b2450ca.png', '1a1e974a7dbf.png', '1a369baf9ee6.png', '1a7e3356b39c.png', '1a90fad9ffa2.png', '1ab3f1c71a5f.png', '1ab8d3431ffc.png', '1ade1e949383.png', '1ae3c58759fb.png', '1ae8c165fd53.png', '1b329a127307.png', '1b32e1d775ea.png', '1b3647865779.png', '1b398c0494d1.png', '1b4625877527.png', '1b495ac025b7.png', '1b862fb6f65d.png', '1b8701231c8f.png', '1b8ad0afe9fb.png', '1bb0ddfe753a.png', '1bea04b2bb2d.png', '1bf30c84bbad.png', '1c0cf251b426.png', '1c0e5dd1b14c.png', '1c13a1483f4a.png', '1c3a6b4449e9.png', '1c47815f4a6b.png', '1c4d87baaffc.png', '1c4f3aa4df06.png', '1c578b72d7b3.png', '1c5ad36fb799.png', '1c5e6cdc7ee1.png', '1c6d119c3d70.png', '1c7a013eeba7.png', '1c9521878baf.png', '1c9c583c10bf.png', '1ca35d483772.png', '1ca62b3e4fd3.png', '1ca91751be4d.png', '1caba2fb38f6.png', '1cb6961d141c.png', '1cb814ed6332.png', '1cc58b15f466.png', '1d0b93317aa8.png', '1d11794057ff.png', '1d14dd912671.png', '1d2472849dce.png', '1d29cb2f4296.png', '1d37f1c8b6d8.png', '1d3e9b939732.png', '1d46f1326394.png', '1d55e689cf84.png', '1d674e2e32e0.png', '1d74c4713e21.png', '1da25637859b.png', '1da4a17c18c9.png', '1db0393cdbc1.png', '1db18bdd43aa.png', '1db6bb46c102.png', '1dbdc32c17db.png', '1dd9adcbfff4.png', '1df0431bfa73.png', '1df0a4c23c95.png', '1df1530b9b8d.png', '1df3e03a8f5f.png', '1dfbede13143.png', '1dfe599d12a9.png', '1e036f2e7095.png', '1e143fa3de57.png', '1e1fb019710d.png', '1e4650743fa2.png', '1e4b3b823b95.png', '1e742358e0b9.png', '1e7ccd4a1c87.png', '1e8a1fdee5b9.png', '1e8c31e29dd3.png', '1e9224ccca95.png', '1ec95179cdfe.png', '1ee1eb7943db.png', '1ee355480567.png', '1eee55494271.png', '1efa5d443707.png', '1f07dae3cadb.png', '1f0e223b8055.png', '1f15ca672675.png', '1f31701dd61b.png', '1f3f32efaf20.png', '1f4bf8e28b41.png', '1f4fb37e0854.png', '1f543a86c4d4.png', '1f5496352859.png', '1f63d44d9e3c.png', '1f9ccda4ddf2.png', '1faf8664816c.png', '1fb455685328.png', '1fd5d860d4d7.png', '1fddd7c98fd2.png', '1ffaa51a6245.png', '200d947f75db.png', '2017cd92c63d.png', '201f6e10c108.png', '201f882365d3.png', '203275daf46d.png', '20404ec7b518.png', '20688cb25704.png', '207a580de0ea.png', '207dd0487264.png', '20c883d3bd38.png', '20d5fdd450ae.png', '20f86e068276.png', '21037f5c7790.png', '210bfe0127c6.png', '211518c46162.png', '2131aa3a1e6f.png', '215d2b7c3fde.png', '217dad18a5ed.png', '218c822a3dd9.png', '21abd36095a1.png', '21d18b022429.png', '22098b1fe461.png', '2209daf71aab.png', '2221cf5c7935.png', '222d0ac042b4.png', '222f3ee3a1e8.png', '22325552a4e3.png', '2241b7e90782.png', '22449af52060.png', '224bb938e2dd.png', '224c14366e11.png', '226c6ceb9185.png', '22895c89792f.png', '22a6da005395.png', '22ce8ef69357.png', '22d843b2bbd1.png', '23148a40ecb0.png', '23175b7ef453.png', '232549883508.png', '233d948e2544.png', '234399352d36.png', '236f56771ec6.png', '2376e5415458.png', '237aa50edc34.png', '237c078d00fc.png', '2399d68d407f.png', '239f2c348ea4.png', '23d7ca170bdb.png', '23fca0693e2a.png', '2408799a09b2.png', '240b25a7debe.png', '242fc19be06f.png', '2463bb04ebc3.png', '246e4506824a.png', '247ac63e5510.png', '247e98aba610.png', '248139c423c4.png', '248dec89b3a2.png', '24b87f744598.png', '24b943fe725e.png', '24de56d433cd.png', '24f271c87e73.png', '24f3e70f0419.png', '25002fe43f92.png', '252305189b3a.png', '2532613a584a.png', '253e96488cfb.png', '254052cf3e48.png', '2585bbc91909.png', '259d30f693b6.png', '25a0a1e41afd.png', '25b0e72705a8.png', '25b4080f598b.png', '25d069089c5e.png', '25dc1b41ed9c.png', '25e9fd872182.png', '2608e1dac5b1.png', '260a455692b5.png', '261c6bd63bff.png', '2628305cbb29.png', '262ad704319c.png', '263d8851e33b.png', '26453eb7e989.png', '26463a5fb949.png', '2665f72e2dd3.png', '266fbefa58fb.png', '2682e6da9050.png', '26999ebc21de.png', '269b44e628eb.png', '269f0792f11f.png', '26cd40b57ad1.png', '26d60db3bbfd.png', '26d9576e8043.png', '26e231747848.png', '26fc2358a38d.png', '2700754f71e9.png', '272d9c043c81.png', '2735be026d44.png', '274f4de2a59d.png', '274f5029189b.png', '276b14f72328.png', '2776d70724d3.png', '278aa860dffd.png', '27933cdbe0cc.png', '27b68863349f.png', '27bab1432f61.png', '27e2be850a99.png', '27e4c800a449.png', '27f82ada84ac.png', '27fca9f12b3c.png', '281d7b7c7676.png', '2821998fc002.png', '282bc792d23a.png', '283c3aeba594.png', '28503940d10b.png', '286e9981dd9b.png', '28751f290ba3.png', '28824d12d31d.png', '289a47dcbb82.png', '28a4d00927b7.png', '28dc010a0780.png', '28f73575e1f2.png', '28f93cad89c5.png', '28f98cfe3858.png', '290ecdba359f.png', '29192375ab1b.png', '291e2ff3d834.png', '291f581d365e.png', '2923971566fe.png', '2927665214e1.png', '29580bed2f7d.png', '295fdc964f6e.png', '2967e578939f.png', '2974c6ad1d58.png', '299086c6d1b5.png', '2994f17f58a5.png', '29a13e666266.png', '29b52f64d2db.png', '29bc0e721cfe.png', '29d059522fa1.png', '29f44aea93a4.png', '29f9e1ac9507.png', '2a08ed6bbcbc.png', '2a099b247b10.png', '2a2274bcb00a.png', '2a2a6435f7f3.png', '2a3378bcfbcc.png', '2a3a1ed1c285.png', '2a4520f1f9a3.png', '2a47e5b21791.png', '2a5a8b744f08.png', '2a7373eeb352.png', '2a8a9e957a6c.png', '2a93334f663a.png', '2af1bf226f51.png', '2b074afdf626.png', '2b07790a2422.png', '2b10f138e67d.png', '2b21d293fdf2.png', '2b2f5a0f880d.png', '2b3a4a81d748.png', '2b48daf24be0.png', '2b4c7b5f1f1e.png', '2b5bb6d33959.png', '2b88cb6e31cd.png', '2ba0b0d9bda2.png', '2bb063318cf1.png', '2bb3c492d6d3.png', '2bbcfdc477db.png', '2bbd1f99ecc3.png', '2bd4d4fbed5c.png', '2c1d5be654dd.png', '2c2aa057afc5.png', '2c77bf969079.png', '2c8101f14723.png', '2c827005b8f8.png', '2c9dfc270f1b.png', '2cacdb0dffae.png', '2cbfc6182ba2.png', '2cceb07ff706.png', '2cdcc910778d.png', '2cef97083e6f.png', '2cf18033da31.png', '2cfe8703f265.png', '2d04cead4d3a.png', '2d07162a13b1.png', '2d3f4094c08a.png', '2d552318eb07.png', '2d558de2cabe.png', '2d7666b8884f.png', '2d870833c0c9.png', '2d9d97a6e713.png', '2da82d14e1b7.png', '2db0cd3e30da.png', '2dc647e00ad3.png', '2dd28ac497d2.png', '2df07eb5779f.png', '2e26762daed5.png', '2e79041ef722.png', '2eba4279e503.png', '2ecbc2e3f239.png', '2ef10194e80d.png', '2ef4a04aed1b.png', '2ef955d6d9ff.png', '2f143453bb71.png', '2f284b6a1940.png', '2f2e1949ad56.png', '2f42e20db938.png', '2f4e81787d9b.png', '2f5c9cdfb333.png', '2f7789c1e046.png', '2f7fbdcc9a4b.png', '2f81ee5f2926.png', '2f8d14a7d390.png', '2f9b66784109.png', '2fb3a8606a77.png', '2fde69f20585.png', '2fdfb80ea53c.png', '2fdffb6160a6.png', '2fe06bedb2c4.png', '2fefb720869a.png', '300305ce82d2.png', '30263a7d5609.png', '302bcdb635ff.png', '3044022c6969.png', '306c841af3fc.png', '3079490a4b9c.png', '308f7fce6f0d.png', '30941b65348b.png', '30cab14951ac.png', '30db694bee42.png', '310c27067ac0.png', '312694ea8e6a.png', '3128eb593012.png', '3132556f5352.png', '31360e44ac64.png', '31452ad8808c.png', '314862758acf.png', '315c1a0d87fd.png', '31616ff6b53b.png', '3178559fbf57.png', '318eb706a134.png', '31b5d6fb0256.png', '31cb39681f6a.png', '3206171db5be.png', '3218a6d8eb2c.png', '3232b34cbe99.png', '3246f07e65b4.png', '3254e48c8aa0.png', '3286073a976e.png', '328d141ed3aa.png', '32a3eb37ff40.png', '32d7d360d891.png', '32ed318235b8.png', '33105f9b3a04.png', '331121c65e88.png', '331b87d1b9d1.png', '3323fd59782e.png', '3325b1fe55d2.png', '33596a635b53.png', '33778d136069.png', '338326891d84.png', '33b893e18eb3.png', '33b91def2035.png', '33b978734eab.png', '33d72035c27a.png', '33e7bf536fc5.png', '33e8e26a75d4.png', '33ffddea8c6e.png', '3402124408ea.png', '3428230bf1bd.png', '342edf9b889d.png', '3435fd8675a2.png', '345b1f0abbba.png', '3461dc601cc2.png', '34723fae6475.png', '348598d01e18.png']\n",
      "Labels in the valid generator:\n",
      "[2, 4, 1, 0, 0, 4, 0, 2, 2, 1, 0, 2, 0, 3, 1, 0, 2, 0, 0, 2, 2, 0, 1, 2, 0, 2, 0, 0, 0, 0, 0, 0, 4, 2, 4, 2, 0, 0, 4, 0, 4, 2, 2, 4, 2, 1, 2, 4, 0, 3, 1, 2, 2, 2, 2, 0, 3, 0, 2, 1, 0, 2, 0, 0, 0, 0, 2, 2, 0, 0, 0, 1, 1, 0, 3, 0, 2, 0, 2, 0, 1, 3, 1, 0, 2, 0, 0, 3, 4, 2, 2, 0, 0, 0, 0, 1, 0, 3, 1, 0, 2, 2, 0, 0, 0, 4, 4, 0, 0, 1, 2, 4, 0, 0, 2, 0, 0, 0, 0, 0, 3, 0, 2, 2, 0, 0, 4, 0, 0, 1, 0, 2, 0, 2, 2, 2, 1, 0, 0, 1, 0, 0, 0, 2, 0, 2, 1, 4, 0, 2, 0, 2, 0, 0, 0, 0, 0, 0, 4, 2, 0, 0, 2, 2, 2, 3, 2, 0, 3, 0, 0, 0, 0, 4, 0, 2, 0, 1, 0, 0, 0, 2, 0, 0, 0, 0, 2, 0, 1, 3, 1, 0, 4, 0, 0, 2, 4, 0, 1, 0, 3, 0, 2, 2, 0, 1, 0, 3, 3, 1, 2, 0, 0, 2, 2, 0, 2, 0, 0, 2, 1, 0, 0, 1, 0, 0, 0, 2, 2, 0, 1, 0, 4, 1, 1, 2, 4, 2, 2, 2, 0, 2, 0, 2, 0, 2, 2, 0, 0, 0, 0, 1, 1, 2, 0, 2, 0, 2, 1, 0, 0, 0, 2, 0, 2, 2, 2, 2, 0, 2, 2, 2, 0, 3, 2, 0, 0, 0, 0, 2, 2, 0, 2, 2, 0, 3, 0, 1, 2, 0, 4, 3, 0, 0, 0, 0, 3, 2, 0, 4, 0, 0, 0, 4, 3, 4, 2, 1, 0, 2, 0, 0, 0, 0, 0, 2, 1, 0, 2, 2, 2, 0, 0, 0, 0, 4, 0, 2, 0, 0, 2, 1, 0, 0, 0, 0, 2, 2, 0, 2, 2, 3, 0, 3, 2, 1, 0, 2, 2, 1, 0, 0, 1, 4, 1, 0, 0, 2, 0, 2, 4, 4, 3, 0, 2, 0, 2, 1, 4, 0, 0, 2, 3, 0, 0, 2, 1, 2, 4, 1, 2, 0, 1, 0, 2, 4, 2, 2, 2, 2, 0, 3, 0, 0, 0, 0, 0, 0, 2, 0, 0, 1, 2, 0, 0, 0, 0, 0, 2, 1, 0, 2, 0, 0, 2, 0, 2, 2, 0, 0, 0, 1, 2, 0, 0, 2, 2, 2, 2, 0, 0, 1, 0, 4, 0, 2, 0, 0, 4, 2, 2, 0, 0, 0, 2, 0, 2, 0, 2, 0, 0, 0, 4, 0, 2, 1, 4, 0, 0, 2, 2, 2, 2, 0, 2, 4, 0, 0, 0, 4, 2, 0, 2, 0, 4, 4, 1, 0, 0, 2, 4, 1, 2, 0, 2, 0, 0, 4, 1, 2, 0, 2, 2, 2, 0, 2, 2, 2, 0, 3, 0, 2, 2, 2, 0, 0, 0, 2, 2, 4, 4, 1, 0, 3, 1, 0, 0, 0, 2, 0, 2, 0, 4, 0, 1, 0, 3, 0, 4, 2, 1, 2, 0, 2, 4, 4, 0, 2, 4, 3, 0, 0, 2, 3, 2, 0, 0, 0, 2, 0, 2, 2, 2, 0, 1, 0, 2, 1, 0, 2, 2, 4, 1, 0, 2, 4, 0, 2, 0, 0, 0, 0, 2, 0, 2, 0, 0, 2, 1, 2, 0, 2, 0, 0, 0, 2, 2, 2, 0, 3, 1, 0, 1, 4, 0, 2, 0, 1, 2, 0, 0, 2, 2, 0, 2, 2, 0, 1, 0, 2, 2, 2, 0, 2, 0, 0, 3, 0, 0, 2, 2, 3, 0, 4, 3, 2, 2, 2, 0, 0, 0, 0, 0, 2, 2, 0, 2, 0, 0, 0, 0, 0, 2, 0, 1, 2, 1, 0, 0, 0, 0, 4, 2, 2, 0, 1, 0, 0, 0, 0, 4, 1, 3, 1, 2, 4, 0, 0, 0, 2, 2, 4, 0, 2, 4, 0, 2, 0, 2, 1, 0, 0, 2, 1, 1, 0, 2, 4, 2, 0, 0, 2, 2, 0, 3, 0, 0, 2, 1, 4, 3, 0, 2, 0, 0, 0, 2, 0, 0, 1, 0, 2, 0, 0, 0, 3, 0, 1, 0, 0, 0, 0, 2, 1, 2, 2, 0, 3, 0, 1, 2, 0]\n"
     ]
    }
   ],
   "source": [
    "filenames = valid_generator.filenames\n",
    "print(\"Filenames in the valid generator:\")\n",
    "print(filenames)\n",
    "\n",
    "# Accessing the labels in the valid generator\n",
    "labels = valid_generator.labels\n",
    "print(\"Labels in the valid generator:\")\n",
    "print(labels)"
   ]
  },
  {
   "cell_type": "code",
   "execution_count": 29,
   "id": "803b237a",
   "metadata": {},
   "outputs": [
    {
     "name": "stdout",
     "output_type": "stream",
     "text": [
      "0104b032c141.png\n"
     ]
    }
   ],
   "source": [
    "print(valid_generator.filenames[13])"
   ]
  },
  {
   "cell_type": "code",
   "execution_count": 32,
   "id": "d65913a5",
   "metadata": {},
   "outputs": [
    {
     "name": "stdout",
     "output_type": "stream",
     "text": [
      "{'000c1434d8d7.png': 2, '001639a390f0.png': 4, '0024cdab0c1e.png': 1, '002c21358ce6.png': 0, '005b95c28852.png': 0, '0083ee8054ee.png': 4, '0097f532ac9f.png': 0, '00a8624548a9.png': 2, '00b74780d31d.png': 2, '00cb6555d108.png': 1, '00cc2b75cddd.png': 0, '00e4ddff966a.png': 2, '00f6c1be5a33.png': 0, '0104b032c141.png': 3, '0124dffecf29.png': 1, '0125fbd2e791.png': 0, '012a242ac6ff.png': 2, '014508ccb9cb.png': 0, '0151781fe50b.png': 0, '0161338f53cc.png': 2, '0180bfa26c0b.png': 2, '0182152c50de.png': 0, '01b3aed3ed4c.png': 1, '01c7808d901d.png': 2, '01d9477b1171.png': 0, '01eb826f6467.png': 2, '01f7bb8be950.png': 0, '0212dd31f623.png': 0, '022f820027b8.png': 0, '0231642cf1c2.png': 0, '0232dfea7547.png': 0, '02358b47ea89.png': 0, '0243404e8a00.png': 4, '025a169a0bb0.png': 2, '02685f13cefd.png': 4, '026dcd9af143.png': 2, '02cd34a85b24.png': 0, '02da652c74b8.png': 0, '02dda30d3acf.png': 4, '0304bedad8fe.png': 0, '0318598cfd16.png': 4, '032d7b0b4bf6.png': 2, '033f2b43de6d.png': 2, '034cb07a550f.png': 4, '03676c71ed1b.png': 2, '0369f3efe69b.png': 1, '03747397839f.png': 2, '03a7f4a5786f.png': 4, '03b373718013.png': 0, '03c85870824c.png': 3, '03e25101e8e8.png': 1, '03fd50da928d.png': 2, '03ff7d159f10.png': 2, '0415fc68b176.png': 2, '041f09eec1e8.png': 2, '0423237770a7.png': 0, '042470a92154.png': 3, '04579e31e4be.png': 0, '04a6fc58dabc.png': 2, '04ac765f91a1.png': 1, '04aef84a2cc1.png': 0, '04d029cfb612.png': 2, '04efb1a284cc.png': 0, '050bb1eafa76.png': 0, '05113073b268.png': 0, '05195a3db5e2.png': 0, '0519b934f6b1.png': 2, '052d9a3fe55a.png': 2, '05339950962e.png': 0, '054b1b305160.png': 0, '0551676cc2aa.png': 0, '059bc89df7f4.png': 1, '05a5183c92d0.png': 1, '05b1bb2bdb81.png': 0, '05cd0178ccfe.png': 3, '05e9126dfa5c.png': 0, '06024377d573.png': 2, '060e00d1e2ab.png': 0, '064af6592ba6.png': 2, '06586082a24d.png': 0, '0684311afdfc.png': 1, '069f43616fab.png': 3, '06b71823f9cd.png': 1, '06be1092a062.png': 0, '07083738b75e.png': 2, '0709652336e2.png': 0, '070d4ce5fd90.png': 0, '070f67572d03.png': 3, '07122e268a1d.png': 4, '071435a218ec.png': 2, '07419eddd6be.png': 2, '07596907347b.png': 0, '0773a1c326ad.png': 0, '07751b94a88a.png': 0, '0790515cf5af.png': 0, '07929d32b5b3.png': 1, '07a0be6b347f.png': 0, '07a0e34c8d20.png': 3, '07a1c7073982.png': 1, '07a2b8cabf6b.png': 0, '07a3be30563b.png': 2, '07d8db76b301.png': 2, '07e827469099.png': 0, '07f5d7baf907.png': 0, '08037e4490e5.png': 0, '080ee76c958c.png': 4, '080f66eedfb9.png': 4, '084c02cf077f.png': 0, '0851d6a69589.png': 0, '086d41d17da8.png': 1, '08752092140d.png': 2, '08a3875063c3.png': 4, '08b6e3240858.png': 0, '08bef347f40d.png': 0, '08c17a2d95b7.png': 2, '08c60c647673.png': 0, '08ee569d4721.png': 0, '08f8838d69bb.png': 0, '09237bf783a4.png': 0, '0924cec998fa.png': 0, '093a42649c29.png': 3, '093cf723fede.png': 0, '094858f005ab.png': 2, '0953c0ac1735.png': 2, '096436d68d06.png': 0, '09662e462531.png': 0, '0981195eb9fb.png': 4, '099021fac3c9.png': 0, '09934421c79e.png': 0, '09935d72892b.png': 1, '09c8323c612e.png': 0, '09eeafa9656a.png': 2, '09f1111a388a.png': 0, '09f6ab477654.png': 2, '0a09aa7356c0.png': 2, '0a1076183736.png': 2, '0a3202889f4d.png': 1, '0a38b552372d.png': 0, '0a4e1a29ffff.png': 0, '0a61bddab956.png': 1, '0a74c92e287c.png': 0, '0a85a1e8f9e9.png': 0, '0a902c80d5da.png': 0, '0a9ec1e99ce4.png': 2, '0abf0c485f66.png': 0, '0ac436400db4.png': 2, '0ad7f631dedb.png': 1, '0ada12c0e78f.png': 4, '0ae2dd2e09ea.png': 0, '0af296d2f04a.png': 2, '0afbeeef0ff7.png': 0, '0afdfe5f422c.png': 2, '0b00f8a77510.png': 0, '0b2ea8f268cf.png': 0, '0b3efe669365.png': 0, '0b64a0a06f9a.png': 0, '0b8bdec9d869.png': 0, '0babc12807b2.png': 0, '0bf37ca3156a.png': 4, '0c2e2369dfff.png': 2, '0c38940e1f80.png': 0, '0c43c79e8cfb.png': 0, '0c55d58bebaf.png': 2, '0c76fd494af6.png': 2, '0c7e82daf5a0.png': 2, '0c917c372572.png': 3, '0ca0aee4d57e.png': 2, '0cae727cf119.png': 0, '0cb14014117d.png': 3, '0cb6b898389f.png': 0, '0cbcc7b23613.png': 0, '0cd31078cd08.png': 0, '0ce062f26edc.png': 0, '0ceb222f6629.png': 4, '0cecc2864b7f.png': 0, '0d0a21fd354f.png': 2, '0d0b8fc9ab5c.png': 0, '0d310aba6373.png': 1, '0d744aed4d64.png': 0, '0d8f60ed9280.png': 0, '0d9a9896f801.png': 0, '0da09e3ce8f1.png': 2, '0da321efbce6.png': 0, '0da632ca45e0.png': 0, '0daddc45d832.png': 0, '0db1d8dcf219.png': 0, '0dbaa09a458c.png': 2, '0dbe6c26cedc.png': 0, '0dc031c94225.png': 1, '0dc8d25b3f69.png': 3, '0dce95217626.png': 1, '0e0003ddd8df.png': 0, '0e0fc1d9810c.png': 4, '0e3572b5884a.png': 0, '0e43c8298fc0.png': 0, '0e75d51152fc.png': 2, '0e82bcacc475.png': 4, '0e94cd271c00.png': 0, '0eb52045349f.png': 1, '0eced86c9db8.png': 0, '0edadb2aa127.png': 3, '0ef4c61dc056.png': 0, '0efc93ec838b.png': 2, '0eff8eacb2f7.png': 2, '0f364b7d4384.png': 0, '0f495d87656a.png': 1, '0f6e645466a2.png': 0, '0f882877bf13.png': 3, '0f96c358a250.png': 3, '0fb1053285cf.png': 1, '0fb560f9adb2.png': 2, '0fbbd665431f.png': 0, '0fc6829da85b.png': 0, '0fcfc6301f3d.png': 2, '0fd16b64697e.png': 2, '0fe31196e0e8.png': 0, '0fffa73e2402.png': 2, '1002b5151b8e.png': 0, '1002f3fe38f0.png': 0, '1006345f70b7.png': 2, '101b9ebfc720.png': 1, '103abbd8b63e.png': 0, '103f97a2ab15.png': 0, '107aea0d9289.png': 1, '10a5026eb8e6.png': 0, '10bf25731c08.png': 0, '10de500cf0c5.png': 0, '10ecc5292ab1.png': 2, '10eefba568dd.png': 2, '10f10fd30718.png': 0, '10f36b0239fb.png': 1, '10f6ef37fe43.png': 0, '10fca1abf338.png': 4, '1116271db4ea.png': 1, '111898ab463d.png': 1, '1120f6d08d95.png': 2, '11242a67122d.png': 4, '1124ffcd76c2.png': 2, '115e42dd6a81.png': 2, '1177d583c807.png': 2, '11b220a397b8.png': 0, '11b5c77fbf79.png': 2, '11d8e5eaee5b.png': 0, '12025b34deb8.png': 2, '12058bbb8299.png': 0, '1269ab57c2e6.png': 2, '12a82fc7d73e.png': 2, '12ab2f6397f0.png': 0, '12ae44be0d38.png': 0, '12b57dac703e.png': 0, '12bc439d373a.png': 0, '12ce6a1a1f31.png': 1, '12e3f5f2cb17.png': 1, '12e6e66c80a7.png': 2, '12ef75375322.png': 0, '13063d1bc4ea.png': 2, '13073f075a56.png': 0, '135575dc57c9.png': 2, '13ab8db8c700.png': 1, '13c191b59ed0.png': 0, '13d014ccd136.png': 0, '13d411c85ffd.png': 0, '13d71389563f.png': 2, '1409ab48175a.png': 0, '1411c8ab7161.png': 2, '1414128bead0.png': 2, '141735b57ec0.png': 2, '1438288bb2e1.png': 2, '143db89c11c8.png': 0, '144a1a426137.png': 2, '144b01e7b993.png': 2, '14515b8f19b6.png': 2, '14c3b41d289c.png': 0, '14e3f84445f7.png': 3, '14ee87d6cc42.png': 2, '1509d097b69a.png': 0, '150f92b45349.png': 0, '150fc7127582.png': 0, '152db3de8120.png': 0, '1541226c5d72.png': 2, '15528e740543.png': 2, '155e2df6bfcf.png': 0, '157d17349cc6.png': 2, '1594ca6c30d3.png': 2, '15b21c80cc31.png': 0, '15bed5adde74.png': 3, '15c24478ac72.png': 0, '15cc2aef772a.png': 1, '15cd5f52d300.png': 2, '15e24b73d4a7.png': 0, '15e96e848b46.png': 4, '15f440753916.png': 3, '15f8d769935c.png': 0, '1601c939412f.png': 0, '16060f05d047.png': 0, '1608c82a263f.png': 0, '1623e8e3adc4.png': 3, '1632c4311fc9.png': 2, '1633f8291a80.png': 0, '1638404f385c.png': 4, '164cd5a3a6cd.png': 0, '165634a6167e.png': 0, '165c548185f8.png': 0, '165cd2070ebd.png': 4, '166068a24416.png': 3, '16ce555748d8.png': 4, '17188c13e635.png': 2, '172df1330a60.png': 1, '174db0854291.png': 0, '175dd560810a.png': 2, '1782142e17d9.png': 0, '178412895d5e.png': 0, '17d7d6b092f4.png': 0, '17d997fe1090.png': 0, '17e6116b89b3.png': 0, '17eb5d4ad740.png': 2, '17eff993386f.png': 1, '17f6c7072f61.png': 0, '180afe1d5ef7.png': 2, '18323d8f2470.png': 2, '1844a039b4ea.png': 2, '184a185e7447.png': 0, '18621b9ca978.png': 0, '1864d3411143.png': 0, '186c1835eec5.png': 0, '187f6ccda87a.png': 4, '188219f2d9c6.png': 0, '188a9323be03.png': 2, '1891698febce.png': 0, '189cbbc9e5e3.png': 0, '18af532e7e1e.png': 2, '18b06f56ab27.png': 1, '18b7e34eab8f.png': 0, '18b99159a14f.png': 0, '18cde9649e90.png': 0, '18ce0cdc473d.png': 0, '18d8fdb140b7.png': 2, '18f1f979d30d.png': 2, '190a309f2cc5.png': 0, '19113e5f45ec.png': 2, '191348830ddf.png': 2, '191a711852bd.png': 3, '191cf5668f33.png': 0, '19244004583f.png': 3, '1943983492e5.png': 2, '194814669fee.png': 1, '19545647508e.png': 0, '1968183f0e61.png': 2, '196e6a186452.png': 2, '19722bff5a09.png': 1, '197af0de76e2.png': 0, '19b0e3c734f5.png': 0, '19e350c7c83c.png': 1, '19ef4d292196.png': 4, '1a03a7970337.png': 1, '1a0dbc6c0cda.png': 0, '1a19f2ef4472.png': 0, '1a1b4b2450ca.png': 2, '1a1e974a7dbf.png': 0, '1a369baf9ee6.png': 2, '1a7e3356b39c.png': 4, '1a90fad9ffa2.png': 4, '1ab3f1c71a5f.png': 3, '1ab8d3431ffc.png': 0, '1ade1e949383.png': 2, '1ae3c58759fb.png': 0, '1ae8c165fd53.png': 2, '1b329a127307.png': 1, '1b32e1d775ea.png': 4, '1b3647865779.png': 0, '1b398c0494d1.png': 0, '1b4625877527.png': 2, '1b495ac025b7.png': 3, '1b862fb6f65d.png': 0, '1b8701231c8f.png': 0, '1b8ad0afe9fb.png': 2, '1bb0ddfe753a.png': 1, '1bea04b2bb2d.png': 2, '1bf30c84bbad.png': 4, '1c0cf251b426.png': 1, '1c0e5dd1b14c.png': 2, '1c13a1483f4a.png': 0, '1c3a6b4449e9.png': 1, '1c47815f4a6b.png': 0, '1c4d87baaffc.png': 2, '1c4f3aa4df06.png': 4, '1c578b72d7b3.png': 2, '1c5ad36fb799.png': 2, '1c5e6cdc7ee1.png': 2, '1c6d119c3d70.png': 2, '1c7a013eeba7.png': 0, '1c9521878baf.png': 3, '1c9c583c10bf.png': 0, '1ca35d483772.png': 0, '1ca62b3e4fd3.png': 0, '1ca91751be4d.png': 0, '1caba2fb38f6.png': 0, '1cb6961d141c.png': 0, '1cb814ed6332.png': 2, '1cc58b15f466.png': 0, '1d0b93317aa8.png': 0, '1d11794057ff.png': 1, '1d14dd912671.png': 2, '1d2472849dce.png': 0, '1d29cb2f4296.png': 0, '1d37f1c8b6d8.png': 0, '1d3e9b939732.png': 0, '1d46f1326394.png': 0, '1d55e689cf84.png': 2, '1d674e2e32e0.png': 1, '1d74c4713e21.png': 0, '1da25637859b.png': 2, '1da4a17c18c9.png': 0, '1db0393cdbc1.png': 0, '1db18bdd43aa.png': 2, '1db6bb46c102.png': 0, '1dbdc32c17db.png': 2, '1dd9adcbfff4.png': 2, '1df0431bfa73.png': 0, '1df0a4c23c95.png': 0, '1df1530b9b8d.png': 0, '1df3e03a8f5f.png': 1, '1dfbede13143.png': 2, '1dfe599d12a9.png': 0, '1e036f2e7095.png': 0, '1e143fa3de57.png': 2, '1e1fb019710d.png': 2, '1e4650743fa2.png': 2, '1e4b3b823b95.png': 2, '1e742358e0b9.png': 0, '1e7ccd4a1c87.png': 0, '1e8a1fdee5b9.png': 1, '1e8c31e29dd3.png': 0, '1e9224ccca95.png': 4, '1ec95179cdfe.png': 0, '1ee1eb7943db.png': 2, '1ee355480567.png': 0, '1eee55494271.png': 0, '1efa5d443707.png': 4, '1f07dae3cadb.png': 2, '1f0e223b8055.png': 2, '1f15ca672675.png': 0, '1f31701dd61b.png': 0, '1f3f32efaf20.png': 0, '1f4bf8e28b41.png': 2, '1f4fb37e0854.png': 0, '1f543a86c4d4.png': 2, '1f5496352859.png': 0, '1f63d44d9e3c.png': 2, '1f9ccda4ddf2.png': 0, '1faf8664816c.png': 0, '1fb455685328.png': 0, '1fd5d860d4d7.png': 4, '1fddd7c98fd2.png': 0, '1ffaa51a6245.png': 2, '200d947f75db.png': 1, '2017cd92c63d.png': 4, '201f6e10c108.png': 0, '201f882365d3.png': 0, '203275daf46d.png': 2, '20404ec7b518.png': 2, '20688cb25704.png': 2, '207a580de0ea.png': 2, '207dd0487264.png': 0, '20c883d3bd38.png': 2, '20d5fdd450ae.png': 4, '20f86e068276.png': 0, '21037f5c7790.png': 0, '210bfe0127c6.png': 0, '211518c46162.png': 4, '2131aa3a1e6f.png': 2, '215d2b7c3fde.png': 0, '217dad18a5ed.png': 2, '218c822a3dd9.png': 0, '21abd36095a1.png': 4, '21d18b022429.png': 4, '22098b1fe461.png': 1, '2209daf71aab.png': 0, '2221cf5c7935.png': 0, '222d0ac042b4.png': 2, '222f3ee3a1e8.png': 4, '22325552a4e3.png': 1, '2241b7e90782.png': 2, '22449af52060.png': 0, '224bb938e2dd.png': 2, '224c14366e11.png': 0, '226c6ceb9185.png': 0, '22895c89792f.png': 4, '22a6da005395.png': 1, '22ce8ef69357.png': 2, '22d843b2bbd1.png': 0, '23148a40ecb0.png': 2, '23175b7ef453.png': 2, '232549883508.png': 2, '233d948e2544.png': 0, '234399352d36.png': 2, '236f56771ec6.png': 2, '2376e5415458.png': 2, '237aa50edc34.png': 0, '237c078d00fc.png': 3, '2399d68d407f.png': 0, '239f2c348ea4.png': 2, '23d7ca170bdb.png': 2, '23fca0693e2a.png': 2, '2408799a09b2.png': 0, '240b25a7debe.png': 0, '242fc19be06f.png': 0, '2463bb04ebc3.png': 2, '246e4506824a.png': 2, '247ac63e5510.png': 4, '247e98aba610.png': 4, '248139c423c4.png': 1, '248dec89b3a2.png': 0, '24b87f744598.png': 3, '24b943fe725e.png': 1, '24de56d433cd.png': 0, '24f271c87e73.png': 0, '24f3e70f0419.png': 0, '25002fe43f92.png': 2, '252305189b3a.png': 0, '2532613a584a.png': 2, '253e96488cfb.png': 0, '254052cf3e48.png': 4, '2585bbc91909.png': 0, '259d30f693b6.png': 1, '25a0a1e41afd.png': 0, '25b0e72705a8.png': 3, '25b4080f598b.png': 0, '25d069089c5e.png': 4, '25dc1b41ed9c.png': 2, '25e9fd872182.png': 1, '2608e1dac5b1.png': 2, '260a455692b5.png': 0, '261c6bd63bff.png': 2, '2628305cbb29.png': 4, '262ad704319c.png': 4, '263d8851e33b.png': 0, '26453eb7e989.png': 2, '26463a5fb949.png': 4, '2665f72e2dd3.png': 3, '266fbefa58fb.png': 0, '2682e6da9050.png': 0, '26999ebc21de.png': 2, '269b44e628eb.png': 3, '269f0792f11f.png': 2, '26cd40b57ad1.png': 0, '26d60db3bbfd.png': 0, '26d9576e8043.png': 0, '26e231747848.png': 2, '26fc2358a38d.png': 0, '2700754f71e9.png': 2, '272d9c043c81.png': 2, '2735be026d44.png': 2, '274f4de2a59d.png': 0, '274f5029189b.png': 1, '276b14f72328.png': 0, '2776d70724d3.png': 2, '278aa860dffd.png': 1, '27933cdbe0cc.png': 0, '27b68863349f.png': 2, '27bab1432f61.png': 2, '27e2be850a99.png': 4, '27e4c800a449.png': 1, '27f82ada84ac.png': 0, '27fca9f12b3c.png': 2, '281d7b7c7676.png': 4, '2821998fc002.png': 0, '282bc792d23a.png': 2, '283c3aeba594.png': 0, '28503940d10b.png': 0, '286e9981dd9b.png': 0, '28751f290ba3.png': 0, '28824d12d31d.png': 2, '289a47dcbb82.png': 0, '28a4d00927b7.png': 2, '28dc010a0780.png': 0, '28f73575e1f2.png': 0, '28f93cad89c5.png': 2, '28f98cfe3858.png': 1, '290ecdba359f.png': 2, '29192375ab1b.png': 0, '291e2ff3d834.png': 2, '291f581d365e.png': 0, '2923971566fe.png': 0, '2927665214e1.png': 0, '29580bed2f7d.png': 2, '295fdc964f6e.png': 2, '2967e578939f.png': 2, '2974c6ad1d58.png': 0, '299086c6d1b5.png': 3, '2994f17f58a5.png': 1, '29a13e666266.png': 0, '29b52f64d2db.png': 1, '29bc0e721cfe.png': 4, '29d059522fa1.png': 0, '29f44aea93a4.png': 2, '29f9e1ac9507.png': 0, '2a08ed6bbcbc.png': 1, '2a099b247b10.png': 2, '2a2274bcb00a.png': 0, '2a2a6435f7f3.png': 0, '2a3378bcfbcc.png': 2, '2a3a1ed1c285.png': 2, '2a4520f1f9a3.png': 0, '2a47e5b21791.png': 2, '2a5a8b744f08.png': 2, '2a7373eeb352.png': 0, '2a8a9e957a6c.png': 1, '2a93334f663a.png': 0, '2af1bf226f51.png': 2, '2b074afdf626.png': 2, '2b07790a2422.png': 2, '2b10f138e67d.png': 0, '2b21d293fdf2.png': 2, '2b2f5a0f880d.png': 0, '2b3a4a81d748.png': 0, '2b48daf24be0.png': 3, '2b4c7b5f1f1e.png': 0, '2b5bb6d33959.png': 0, '2b88cb6e31cd.png': 2, '2ba0b0d9bda2.png': 2, '2bb063318cf1.png': 3, '2bb3c492d6d3.png': 0, '2bbcfdc477db.png': 4, '2bbd1f99ecc3.png': 3, '2bd4d4fbed5c.png': 2, '2c1d5be654dd.png': 2, '2c2aa057afc5.png': 2, '2c77bf969079.png': 0, '2c8101f14723.png': 0, '2c827005b8f8.png': 0, '2c9dfc270f1b.png': 0, '2cacdb0dffae.png': 0, '2cbfc6182ba2.png': 2, '2cceb07ff706.png': 2, '2cdcc910778d.png': 0, '2cef97083e6f.png': 2, '2cf18033da31.png': 0, '2cfe8703f265.png': 0, '2d04cead4d3a.png': 0, '2d07162a13b1.png': 0, '2d3f4094c08a.png': 0, '2d552318eb07.png': 2, '2d558de2cabe.png': 0, '2d7666b8884f.png': 1, '2d870833c0c9.png': 2, '2d9d97a6e713.png': 1, '2da82d14e1b7.png': 0, '2db0cd3e30da.png': 0, '2dc647e00ad3.png': 0, '2dd28ac497d2.png': 0, '2df07eb5779f.png': 4, '2e26762daed5.png': 2, '2e79041ef722.png': 2, '2eba4279e503.png': 0, '2ecbc2e3f239.png': 1, '2ef10194e80d.png': 0, '2ef4a04aed1b.png': 0, '2ef955d6d9ff.png': 0, '2f143453bb71.png': 0, '2f284b6a1940.png': 4, '2f2e1949ad56.png': 1, '2f42e20db938.png': 3, '2f4e81787d9b.png': 1, '2f5c9cdfb333.png': 2, '2f7789c1e046.png': 4, '2f7fbdcc9a4b.png': 0, '2f81ee5f2926.png': 0, '2f8d14a7d390.png': 0, '2f9b66784109.png': 2, '2fb3a8606a77.png': 2, '2fde69f20585.png': 4, '2fdfb80ea53c.png': 0, '2fdffb6160a6.png': 2, '2fe06bedb2c4.png': 4, '2fefb720869a.png': 0, '300305ce82d2.png': 2, '30263a7d5609.png': 0, '302bcdb635ff.png': 2, '3044022c6969.png': 1, '306c841af3fc.png': 0, '3079490a4b9c.png': 0, '308f7fce6f0d.png': 2, '30941b65348b.png': 1, '30cab14951ac.png': 1, '30db694bee42.png': 0, '310c27067ac0.png': 2, '312694ea8e6a.png': 4, '3128eb593012.png': 2, '3132556f5352.png': 0, '31360e44ac64.png': 0, '31452ad8808c.png': 2, '314862758acf.png': 2, '315c1a0d87fd.png': 0, '31616ff6b53b.png': 3, '3178559fbf57.png': 0, '318eb706a134.png': 0, '31b5d6fb0256.png': 2, '31cb39681f6a.png': 1, '3206171db5be.png': 4, '3218a6d8eb2c.png': 3, '3232b34cbe99.png': 0, '3246f07e65b4.png': 2, '3254e48c8aa0.png': 0, '3286073a976e.png': 0, '328d141ed3aa.png': 0, '32a3eb37ff40.png': 2, '32d7d360d891.png': 0, '32ed318235b8.png': 0, '33105f9b3a04.png': 1, '331121c65e88.png': 0, '331b87d1b9d1.png': 2, '3323fd59782e.png': 0, '3325b1fe55d2.png': 0, '33596a635b53.png': 0, '33778d136069.png': 3, '338326891d84.png': 0, '33b893e18eb3.png': 1, '33b91def2035.png': 0, '33b978734eab.png': 0, '33d72035c27a.png': 0, '33e7bf536fc5.png': 0, '33e8e26a75d4.png': 2, '33ffddea8c6e.png': 1, '3402124408ea.png': 2, '3428230bf1bd.png': 2, '342edf9b889d.png': 0, '3435fd8675a2.png': 3, '345b1f0abbba.png': 0, '3461dc601cc2.png': 1, '34723fae6475.png': 2, '348598d01e18.png': 0}\n"
     ]
    }
   ],
   "source": [
    "image_label_map = {}\n",
    "\n",
    "for i in range(len(filenames)):\n",
    "    image_label_map[filenames[i]] = labels[i]\n",
    "\n",
    "print(image_label_map)"
   ]
  }
 ],
 "metadata": {
  "kernelspec": {
   "display_name": "Python 3 (ipykernel)",
   "language": "python",
   "name": "python3"
  },
  "language_info": {
   "codemirror_mode": {
    "name": "ipython",
    "version": 3
   },
   "file_extension": ".py",
   "mimetype": "text/x-python",
   "name": "python",
   "nbconvert_exporter": "python",
   "pygments_lexer": "ipython3",
   "version": "3.10.9"
  }
 },
 "nbformat": 4,
 "nbformat_minor": 5
}
